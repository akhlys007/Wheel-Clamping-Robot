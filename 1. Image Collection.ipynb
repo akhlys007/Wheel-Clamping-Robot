{
 "cells": [
  {
   "cell_type": "markdown",
   "metadata": {},
   "source": [
    "# 1. Import Dependencies"
   ]
  },
  {
   "cell_type": "code",
   "execution_count": 1,
   "metadata": {},
   "outputs": [
    {
     "name": "stdout",
     "output_type": "stream",
     "text": [
      "Requirement already satisfied: opencv-python in c:\\programdata\\anaconda3\\envs\\surgeryyy\\lib\\site-packages (4.5.4.58)\n",
      "Requirement already satisfied: numpy>=1.17.3 in c:\\programdata\\anaconda3\\envs\\surgeryyy\\lib\\site-packages (from opencv-python) (1.21.4)\n"
     ]
    }
   ],
   "source": [
    "!pip install opencv-python"
   ]
  },
  {
   "cell_type": "code",
   "execution_count": 2,
   "metadata": {},
   "outputs": [],
   "source": [
    "# Import opencv\n",
    "import cv2 \n",
    "\n",
    "# Import uuid\n",
    "import uuid\n",
    "\n",
    "# Import Operating System\n",
    "import os\n",
    "\n",
    "# Import time\n",
    "import time"
   ]
  },
  {
   "cell_type": "markdown",
   "metadata": {},
   "source": [
    "# 2. Define Images to Collect"
   ]
  },
  {
   "cell_type": "code",
   "execution_count": 3,
   "metadata": {},
   "outputs": [],
   "source": [
    "labels = ['wheel']\n",
    "number_imgs = 10"
   ]
  },
  {
   "cell_type": "markdown",
   "metadata": {},
   "source": [
    "# 3. Setup Folders "
   ]
  },
  {
   "cell_type": "code",
   "execution_count": 4,
   "metadata": {},
   "outputs": [],
   "source": [
    "IMAGES_PATH = os.path.join('Tensorflow', 'workspace', 'images', 'collectedimages')"
   ]
  },
  {
   "cell_type": "code",
   "execution_count": 5,
   "metadata": {},
   "outputs": [],
   "source": [
    "if not os.path.exists(IMAGES_PATH):\n",
    "    if os.name == 'posix':\n",
    "        !mkdir -p {IMAGES_PATH}\n",
    "    if os.name == 'nt':\n",
    "         !mkdir {IMAGES_PATH}\n",
    "for label in labels:\n",
    "    path = os.path.join(IMAGES_PATH, label)\n",
    "    if not os.path.exists(path):\n",
    "        !mkdir {path}"
   ]
  },
  {
   "cell_type": "markdown",
   "metadata": {},
   "source": [
    "# 4. Capture Images"
   ]
  },
  {
   "cell_type": "code",
   "execution_count": 7,
   "metadata": {},
   "outputs": [
    {
     "name": "stdout",
     "output_type": "stream",
     "text": [
      "Collecting images for thumbsup\n",
      "Collecting image 0\n",
      "Collecting image 1\n",
      "Collecting image 2\n",
      "Collecting image 3\n",
      "Collecting image 4\n",
      "Collecting image 5\n",
      "Collecting image 6\n",
      "Collecting image 7\n",
      "Collecting image 8\n",
      "Collecting image 9\n",
      "Collecting images for thumbsdown\n",
      "Collecting image 0\n",
      "Collecting image 1\n",
      "Collecting image 2\n",
      "Collecting image 3\n",
      "Collecting image 4\n",
      "Collecting image 5\n",
      "Collecting image 6\n",
      "Collecting image 7\n",
      "Collecting image 8\n",
      "Collecting image 9\n",
      "Collecting images for fork\n",
      "Collecting image 0\n",
      "Collecting image 1\n",
      "Collecting image 2\n",
      "Collecting image 3\n",
      "Collecting image 4\n",
      "Collecting image 5\n",
      "Collecting image 6\n",
      "Collecting image 7\n",
      "Collecting image 8\n",
      "Collecting image 9\n"
     ]
    }
   ],
   "source": [
    "for label in labels:\n",
    "    cap = cv2.VideoCapture(0)\n",
    "    print('Collecting images for {}'.format(label))\n",
    "    time.sleep(5)\n",
    "    for imgnum in range(number_imgs):\n",
    "        print('Collecting image {}'.format(imgnum))\n",
    "        ret, frame = cap.read()\n",
    "        imgname = os.path.join(IMAGES_PATH,label,label+'.'+'{}.jpg'.format(str(uuid.uuid1())))\n",
    "        cv2.imwrite(imgname, frame)\n",
    "        cv2.imshow('frame', frame)\n",
    "        time.sleep(2)\n",
    "\n",
    "        if cv2.waitKey(1) & 0xFF == ord('q'):\n",
    "            break\n",
    "cap.release()\n",
    "cv2.destroyAllWindows()"
   ]
  },
  {
   "cell_type": "markdown",
   "metadata": {},
   "source": [
    "# 5. Image Labelling"
   ]
  },
  {
   "cell_type": "code",
   "execution_count": 6,
   "metadata": {
    "scrolled": true
   },
   "outputs": [
    {
     "name": "stdout",
     "output_type": "stream",
     "text": [
      "Requirement already satisfied: pyqt5 in c:\\programdata\\anaconda3\\envs\\surgeryyy\\lib\\site-packages (5.15.6)\n",
      "Requirement already satisfied: lxml in c:\\programdata\\anaconda3\\envs\\surgeryyy\\lib\\site-packages (4.6.4)\n",
      "Requirement already satisfied: PyQt5-Qt5>=5.15.2 in c:\\programdata\\anaconda3\\envs\\surgeryyy\\lib\\site-packages (from pyqt5) (5.15.2)\n",
      "Requirement already satisfied: PyQt5-sip<13,>=12.8 in c:\\programdata\\anaconda3\\envs\\surgeryyy\\lib\\site-packages (from pyqt5) (12.9.0)\n"
     ]
    }
   ],
   "source": [
    "!pip install --upgrade pyqt5 lxml"
   ]
  },
  {
   "cell_type": "code",
   "execution_count": 6,
   "metadata": {},
   "outputs": [],
   "source": [
    "LABELIMG_PATH = os.path.join('Tensorflow', 'labelimg')"
   ]
  },
  {
   "cell_type": "code",
   "execution_count": 7,
   "metadata": {},
   "outputs": [],
   "source": [
    "if not os.path.exists(LABELIMG_PATH):\n",
    "    !mkdir {LABELIMG_PATH}\n",
    "    !git clone https://github.com/tzutalin/labelImg {LABELIMG_PATH}"
   ]
  },
  {
   "cell_type": "code",
   "execution_count": 8,
   "metadata": {},
   "outputs": [],
   "source": [
    "if os.name == 'posix':\n",
    "    !make qt5py3\n",
    "if os.name =='nt':\n",
    "    !cd {LABELIMG_PATH} && pyrcc5 -o libs/resources.py resources.qrc"
   ]
  },
  {
   "cell_type": "code",
   "execution_count": 9,
   "metadata": {
    "scrolled": true
   },
   "outputs": [
    {
     "name": "stderr",
     "output_type": "stream",
     "text": [
      "labelImg.py:971: DeprecationWarning: an integer is required (got type float).  Implicit conversion to integers using __int__ is deprecated, and may be removed in a future version of Python.\n",
      "  self.zoom_widget.setValue(value)\n",
      "labelImg.py:1025: DeprecationWarning: an integer is required (got type float).  Implicit conversion to integers using __int__ is deprecated, and may be removed in a future version of Python.\n",
      "  h_bar.setValue(new_h_bar_value)\n",
      "labelImg.py:1026: DeprecationWarning: an integer is required (got type float).  Implicit conversion to integers using __int__ is deprecated, and may be removed in a future version of Python.\n",
      "  v_bar.setValue(new_v_bar_value)\n",
      "labelImg.py:965: DeprecationWarning: an integer is required (got type float).  Implicit conversion to integers using __int__ is deprecated, and may be removed in a future version of Python.\n",
      "  bar.setValue(bar.value() + bar.singleStep() * units)\n"
     ]
    },
    {
     "name": "stdout",
     "output_type": "stream",
     "text": [
      "Image:F:\\surgeryyy\\TFODCourse\\Tensorflow\\workspace\\images\\collectedimages\\wheel\\images (1).jpg -> Annotation:F:/surgeryyy/TFODCourse/Tensorflow/workspace/images/collectedimages/wheel/images (1).xml\n",
      "Image:F:\\surgeryyy\\TFODCourse\\Tensorflow\\workspace\\images\\collectedimages\\wheel\\images (2).jpg -> Annotation:F:/surgeryyy/TFODCourse/Tensorflow/workspace/images/collectedimages/wheel/images (2).xml\n",
      "Image:F:\\surgeryyy\\TFODCourse\\Tensorflow\\workspace\\images\\collectedimages\\wheel\\images (3).jpg -> Annotation:F:/surgeryyy/TFODCourse/Tensorflow/workspace/images/collectedimages/wheel/images (3).xml\n",
      "Image:F:\\surgeryyy\\TFODCourse\\Tensorflow\\workspace\\images\\collectedimages\\wheel\\images (4).jpg -> Annotation:F:/surgeryyy/TFODCourse/Tensorflow/workspace/images/collectedimages/wheel/images (4).xml\n",
      "Image:F:\\surgeryyy\\TFODCourse\\Tensorflow\\workspace\\images\\collectedimages\\wheel\\images (5).jpg -> Annotation:F:/surgeryyy/TFODCourse/Tensorflow/workspace/images/collectedimages/wheel/images (5).xml\n",
      "Image:F:\\surgeryyy\\TFODCourse\\Tensorflow\\workspace\\images\\collectedimages\\wheel\\images.jpg -> Annotation:F:/surgeryyy/TFODCourse/Tensorflow/workspace/images/collectedimages/wheel/images.xml\n",
      "Image:F:\\surgeryyy\\TFODCourse\\Tensorflow\\workspace\\images\\collectedimages\\wheel\\wheel1.jpeg -> Annotation:F:/surgeryyy/TFODCourse/Tensorflow/workspace/images/collectedimages/wheel/wheel1.xml\n",
      "Image:F:\\surgeryyy\\TFODCourse\\Tensorflow\\workspace\\images\\collectedimages\\wheel\\wheel2.jpeg -> Annotation:F:/surgeryyy/TFODCourse/Tensorflow/workspace/images/collectedimages/wheel/wheel2.xml\n",
      "Image:F:\\surgeryyy\\TFODCourse\\Tensorflow\\workspace\\images\\collectedimages\\wheel\\wheel3.jpeg -> Annotation:F:/surgeryyy/TFODCourse/Tensorflow/workspace/images/collectedimages/wheel/wheel3.xml\n",
      "Image:F:\\surgeryyy\\TFODCourse\\Tensorflow\\workspace\\images\\collectedimages\\wheel\\wheel4.jpeg -> Annotation:F:/surgeryyy/TFODCourse/Tensorflow/workspace/images/collectedimages/wheel/wheel4.xml\n",
      "Image:F:\\surgeryyy\\TFODCourse\\Tensorflow\\workspace\\images\\collectedimages\\wheel\\wheel5.jpeg -> Annotation:F:/surgeryyy/TFODCourse/Tensorflow/workspace/images/collectedimages/wheel/wheel5.xml\n",
      "Image:F:\\surgeryyy\\TFODCourse\\Tensorflow\\workspace\\images\\collectedimages\\wheel\\wheel6.jpeg -> Annotation:F:/surgeryyy/TFODCourse/Tensorflow/workspace/images/collectedimages/wheel/wheel6.xml\n",
      "Image:F:\\surgeryyy\\TFODCourse\\Tensorflow\\workspace\\images\\collectedimages\\wheel\\wheel7.jpeg -> Annotation:F:/surgeryyy/TFODCourse/Tensorflow/workspace/images/collectedimages/wheel/wheel7.xml\n"
     ]
    }
   ],
   "source": [
    "!cd {LABELIMG_PATH} && python labelImg.py"
   ]
  },
  {
   "cell_type": "markdown",
   "metadata": {},
   "source": [
    "# 6. Move them into a Training and Testing Partition"
   ]
  },
  {
   "cell_type": "markdown",
   "metadata": {},
   "source": [
    "# OPTIONAL - 7. Compress them for Colab Training"
   ]
  },
  {
   "cell_type": "code",
   "execution_count": 20,
   "metadata": {},
   "outputs": [],
   "source": [
    "TRAIN_PATH = os.path.join('Tensorflow', 'workspace', 'images', 'train')\n",
    "TEST_PATH = os.path.join('Tensorflow', 'workspace', 'images', 'test')\n",
    "ARCHIVE_PATH = os.path.join('Tensorflow', 'workspace', 'images', 'archive.tar.gz')"
   ]
  },
  {
   "cell_type": "code",
   "execution_count": 21,
   "metadata": {},
   "outputs": [],
   "source": [
    "!tar -czf {ARCHIVE_PATH} {TRAIN_PATH} {TEST_PATH}"
   ]
  },
  {
   "cell_type": "code",
   "execution_count": null,
   "metadata": {},
   "outputs": [],
   "source": []
  }
 ],
 "metadata": {
  "kernelspec": {
   "display_name": "surgeryyyyy",
   "language": "python",
   "name": "surgeryyyyy"
  },
  "language_info": {
   "codemirror_mode": {
    "name": "ipython",
    "version": 3
   },
   "file_extension": ".py",
   "mimetype": "text/x-python",
   "name": "python",
   "nbconvert_exporter": "python",
   "pygments_lexer": "ipython3",
   "version": "3.8.12"
  }
 },
 "nbformat": 4,
 "nbformat_minor": 2
}
